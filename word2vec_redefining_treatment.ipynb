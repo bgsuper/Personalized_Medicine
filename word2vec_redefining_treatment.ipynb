{
 "cells": [
  {
   "cell_type": "markdown",
   "metadata": {},
   "source": [
    "# Classification using Word2Vect model"
   ]
  },
  {
   "cell_type": "code",
   "execution_count": 63,
   "metadata": {},
   "outputs": [
    {
     "name": "stdout",
     "output_type": "stream",
     "text": [
      "The autoreload extension is already loaded. To reload it, use:\n",
      "  %reload_ext autoreload\n"
     ]
    }
   ],
   "source": [
    "%load_ext autoreload\n",
    "%autoreload 2\n",
    "\n",
    "import sys, os\n",
    "from lib import models, graph, coarsening, utils\n",
    "\n",
    "import tensorflow as tf\n",
    "import matplotlib.pyplot as plt\n",
    "\n",
    "import numpy as np\n",
    "import pandas as pd\n",
    "import time, re"
   ]
  },
  {
   "cell_type": "markdown",
   "metadata": {
    "collapsed": true
   },
   "source": [
    "# Data"
   ]
  },
  {
   "cell_type": "code",
   "execution_count": 64,
   "metadata": {},
   "outputs": [
    {
     "data": {
      "text/html": [
       "<div>\n",
       "<style>\n",
       "    .dataframe thead tr:only-child th {\n",
       "        text-align: right;\n",
       "    }\n",
       "\n",
       "    .dataframe thead th {\n",
       "        text-align: left;\n",
       "    }\n",
       "\n",
       "    .dataframe tbody tr th {\n",
       "        vertical-align: top;\n",
       "    }\n",
       "</style>\n",
       "<table border=\"1\" class=\"dataframe\">\n",
       "  <thead>\n",
       "    <tr style=\"text-align: right;\">\n",
       "      <th></th>\n",
       "      <th>ID</th>\n",
       "      <th>Gene</th>\n",
       "      <th>Variation</th>\n",
       "      <th>Class</th>\n",
       "      <th>Text</th>\n",
       "    </tr>\n",
       "  </thead>\n",
       "  <tbody>\n",
       "    <tr>\n",
       "      <th>0</th>\n",
       "      <td>0</td>\n",
       "      <td>FAM58A</td>\n",
       "      <td>Truncating Mutations</td>\n",
       "      <td>1</td>\n",
       "      <td>Cyclin-dependent kinases (CDKs) regulate a var...</td>\n",
       "    </tr>\n",
       "    <tr>\n",
       "      <th>1</th>\n",
       "      <td>1</td>\n",
       "      <td>CBL</td>\n",
       "      <td>W802*</td>\n",
       "      <td>2</td>\n",
       "      <td>Abstract Background  Non-small cell lung canc...</td>\n",
       "    </tr>\n",
       "    <tr>\n",
       "      <th>2</th>\n",
       "      <td>2</td>\n",
       "      <td>CBL</td>\n",
       "      <td>Q249E</td>\n",
       "      <td>2</td>\n",
       "      <td>Abstract Background  Non-small cell lung canc...</td>\n",
       "    </tr>\n",
       "    <tr>\n",
       "      <th>3</th>\n",
       "      <td>3</td>\n",
       "      <td>CBL</td>\n",
       "      <td>N454D</td>\n",
       "      <td>3</td>\n",
       "      <td>Recent evidence has demonstrated that acquired...</td>\n",
       "    </tr>\n",
       "    <tr>\n",
       "      <th>4</th>\n",
       "      <td>4</td>\n",
       "      <td>CBL</td>\n",
       "      <td>L399V</td>\n",
       "      <td>4</td>\n",
       "      <td>Oncogenic mutations in the monomeric Casitas B...</td>\n",
       "    </tr>\n",
       "  </tbody>\n",
       "</table>\n",
       "</div>"
      ],
      "text/plain": [
       "   ID    Gene             Variation  Class  \\\n",
       "0   0  FAM58A  Truncating Mutations      1   \n",
       "1   1     CBL                 W802*      2   \n",
       "2   2     CBL                 Q249E      2   \n",
       "3   3     CBL                 N454D      3   \n",
       "4   4     CBL                 L399V      4   \n",
       "\n",
       "                                                Text  \n",
       "0  Cyclin-dependent kinases (CDKs) regulate a var...  \n",
       "1   Abstract Background  Non-small cell lung canc...  \n",
       "2   Abstract Background  Non-small cell lung canc...  \n",
       "3  Recent evidence has demonstrated that acquired...  \n",
       "4  Oncogenic mutations in the monomeric Casitas B...  "
      ]
     },
     "metadata": {},
     "output_type": "display_data"
    }
   ],
   "source": [
    "data_dir = './data'\n",
    "if not os.path.exists(data_dir):\n",
    "    os.mkdir(data_dir)\n",
    "    \n",
    "train_clean_text_path = os.path.join(data_dir, 'train_clean_text.csv') \n",
    "\n",
    "train = utils.TrainDataSet('./data/training_variants', './data/training_text')\n",
    "test = utils.TestDataSet('./data/test_variants', './data/test_text')\n",
    "\n",
    "display(train.show_documents())"
   ]
  },
  {
   "cell_type": "code",
   "execution_count": 65,
   "metadata": {},
   "outputs": [
    {
     "data": {
      "text/html": [
       "<div>\n",
       "<style>\n",
       "    .dataframe thead tr:only-child th {\n",
       "        text-align: right;\n",
       "    }\n",
       "\n",
       "    .dataframe thead th {\n",
       "        text-align: left;\n",
       "    }\n",
       "\n",
       "    .dataframe tbody tr th {\n",
       "        vertical-align: top;\n",
       "    }\n",
       "</style>\n",
       "<table border=\"1\" class=\"dataframe\">\n",
       "  <thead>\n",
       "    <tr style=\"text-align: right;\">\n",
       "      <th></th>\n",
       "      <th>ID</th>\n",
       "      <th>Gene</th>\n",
       "      <th>Variation</th>\n",
       "      <th>Class</th>\n",
       "      <th>Text</th>\n",
       "      <th>text_prof_tokens</th>\n",
       "      <th>Variation_lemmatized</th>\n",
       "      <th>Gene_lemmatized</th>\n",
       "      <th>text_length</th>\n",
       "    </tr>\n",
       "  </thead>\n",
       "  <tbody>\n",
       "    <tr>\n",
       "      <th>0</th>\n",
       "      <td>0</td>\n",
       "      <td>FAM58A</td>\n",
       "      <td>Truncating Mutations</td>\n",
       "      <td>1</td>\n",
       "      <td>Cyclin-dependent kinases (CDKs) regulate a var...</td>\n",
       "      <td>cyclin kinase cdk cdk1 cdk cyclin kinase cdk1 ...</td>\n",
       "      <td>truncate</td>\n",
       "      <td>fam58a</td>\n",
       "      <td>893</td>\n",
       "    </tr>\n",
       "    <tr>\n",
       "      <th>1</th>\n",
       "      <td>1</td>\n",
       "      <td>CBL</td>\n",
       "      <td>W802*</td>\n",
       "      <td>2</td>\n",
       "      <td>Abstract Background  Non-small cell lung canc...</td>\n",
       "      <td>nsclc proteomic cbl ubiquitin ligase cbl tyros...</td>\n",
       "      <td>w802</td>\n",
       "      <td>cbl</td>\n",
       "      <td>624</td>\n",
       "    </tr>\n",
       "    <tr>\n",
       "      <th>2</th>\n",
       "      <td>2</td>\n",
       "      <td>CBL</td>\n",
       "      <td>Q249E</td>\n",
       "      <td>2</td>\n",
       "      <td>Abstract Background  Non-small cell lung canc...</td>\n",
       "      <td>nsclc proteomic cbl ubiquitin ligase cbl tyros...</td>\n",
       "      <td>q249e</td>\n",
       "      <td>cbl</td>\n",
       "      <td>624</td>\n",
       "    </tr>\n",
       "    <tr>\n",
       "      <th>3</th>\n",
       "      <td>3</td>\n",
       "      <td>CBL</td>\n",
       "      <td>N454D</td>\n",
       "      <td>3</td>\n",
       "      <td>Recent evidence has demonstrated that acquired...</td>\n",
       "      <td>uniparental disomy aupd pathogenetic homozygos...</td>\n",
       "      <td>n454d</td>\n",
       "      <td>cbl</td>\n",
       "      <td>791</td>\n",
       "    </tr>\n",
       "    <tr>\n",
       "      <th>4</th>\n",
       "      <td>4</td>\n",
       "      <td>CBL</td>\n",
       "      <td>L399V</td>\n",
       "      <td>4</td>\n",
       "      <td>Oncogenic mutations in the monomeric Casitas B...</td>\n",
       "      <td>monomeric casitas cbl cbl cbl missense cbl cbl...</td>\n",
       "      <td>l399v</td>\n",
       "      <td>cbl</td>\n",
       "      <td>616</td>\n",
       "    </tr>\n",
       "  </tbody>\n",
       "</table>\n",
       "</div>"
      ],
      "text/plain": [
       "   ID    Gene             Variation  Class  \\\n",
       "0   0  FAM58A  Truncating Mutations      1   \n",
       "1   1     CBL                 W802*      2   \n",
       "2   2     CBL                 Q249E      2   \n",
       "3   3     CBL                 N454D      3   \n",
       "4   4     CBL                 L399V      4   \n",
       "\n",
       "                                                Text  \\\n",
       "0  Cyclin-dependent kinases (CDKs) regulate a var...   \n",
       "1   Abstract Background  Non-small cell lung canc...   \n",
       "2   Abstract Background  Non-small cell lung canc...   \n",
       "3  Recent evidence has demonstrated that acquired...   \n",
       "4  Oncogenic mutations in the monomeric Casitas B...   \n",
       "\n",
       "                                    text_prof_tokens Variation_lemmatized  \\\n",
       "0  cyclin kinase cdk cdk1 cdk cyclin kinase cdk1 ...             truncate   \n",
       "1  nsclc proteomic cbl ubiquitin ligase cbl tyros...                 w802   \n",
       "2  nsclc proteomic cbl ubiquitin ligase cbl tyros...                q249e   \n",
       "3  uniparental disomy aupd pathogenetic homozygos...                n454d   \n",
       "4  monomeric casitas cbl cbl cbl missense cbl cbl...                l399v   \n",
       "\n",
       "  Gene_lemmatized  text_length  \n",
       "0          fam58a          893  \n",
       "1             cbl          624  \n",
       "2             cbl          624  \n",
       "3             cbl          791  \n",
       "4             cbl          616  "
      ]
     },
     "metadata": {},
     "output_type": "display_data"
    },
    {
     "data": {
      "text/html": [
       "<div>\n",
       "<style>\n",
       "    .dataframe thead tr:only-child th {\n",
       "        text-align: right;\n",
       "    }\n",
       "\n",
       "    .dataframe thead th {\n",
       "        text-align: left;\n",
       "    }\n",
       "\n",
       "    .dataframe tbody tr th {\n",
       "        vertical-align: top;\n",
       "    }\n",
       "</style>\n",
       "<table border=\"1\" class=\"dataframe\">\n",
       "  <thead>\n",
       "    <tr style=\"text-align: right;\">\n",
       "      <th></th>\n",
       "      <th>Variation_lemmatized</th>\n",
       "      <th>Class</th>\n",
       "    </tr>\n",
       "  </thead>\n",
       "  <tbody>\n",
       "    <tr>\n",
       "      <th>0</th>\n",
       "      <td>truncate</td>\n",
       "      <td>1</td>\n",
       "    </tr>\n",
       "    <tr>\n",
       "      <th>1</th>\n",
       "      <td>w802</td>\n",
       "      <td>2</td>\n",
       "    </tr>\n",
       "    <tr>\n",
       "      <th>2</th>\n",
       "      <td>q249e</td>\n",
       "      <td>2</td>\n",
       "    </tr>\n",
       "    <tr>\n",
       "      <th>3</th>\n",
       "      <td>n454d</td>\n",
       "      <td>3</td>\n",
       "    </tr>\n",
       "    <tr>\n",
       "      <th>4</th>\n",
       "      <td>l399v</td>\n",
       "      <td>4</td>\n",
       "    </tr>\n",
       "  </tbody>\n",
       "</table>\n",
       "</div>"
      ],
      "text/plain": [
       "  Variation_lemmatized  Class\n",
       "0             truncate      1\n",
       "1                 w802      2\n",
       "2                q249e      2\n",
       "3                n454d      3\n",
       "4                l399v      4"
      ]
     },
     "metadata": {},
     "output_type": "display_data"
    }
   ],
   "source": [
    "# clean text data\n",
    "train.extract_prof_text()\n",
    "train.dataset_clean = train.dataset_clean.dropna(how='any', axis=0)\n",
    "train.text_length(train.dataset_clean)\n",
    "train.lemmatize(train.dataset_clean)\n",
    "train.lemmatize(train.dataset_clean, col='Gene')\n",
    "train_variation_class_pair = train.variation_class()\n",
    "display(train.dataset_clean.head())\n",
    "display(train_variation_class_pair.head())"
   ]
  },
  {
   "cell_type": "code",
   "execution_count": 66,
   "metadata": {
    "collapsed": true,
    "scrolled": true
   },
   "outputs": [],
   "source": [
    "test.extract_prof_text()\n",
    "test.dataset_clean = test.dataset_clean.drop(['Text','Gene','Variation'], axis=1)\n",
    "test_variation= test.dataset_clean[['Variation_lemmatized']]\n",
    "# test.dataset_clea"
   ]
  },
  {
   "cell_type": "code",
   "execution_count": 81,
   "metadata": {},
   "outputs": [
    {
     "data": {
      "text/plain": [
       "'stromal gists imatinib sunitinib regorafenib polyclonal exon ponatinib ponatinib imatinib sunitinib regorafenib mutagenesis ponatinib ponatinib ponatinib ponatinib mutagenesis ponatinib v654a ponatinib ponatinib ponatinib keyword ponatinib tyrosine kinase stromal gists tyrosine kinas pdgfra gist exon extracellular ligand juxtamembrane kinase tyrosine kinase tki imatinib r121l fusion secondary atp exon exon imatinib gists mutational imatinib sunitinib atp sunitinib imatinib regorafenib regorafenib centrosome keap1 r121l h1781 r121l r121l ponatinib ap24534 bcr abl pretreat ponatinib bcr abl ponatinib isogenic ponatinib ponatinib dsmz snp cdnas plvx ires puro clontech genscript lentiviral lentiviral orf phospho kit tyr721 erk phospho phospho akt s473 ponatinib ariad imatinib ontariochem sunitinib regorafenib cdna plvx ires puro clontech lentiviral puromycin invitrogen mscf celltiter aqueous promega ic5 xlfit immunoblott lysate supersignal femto mutagenesis nitrosourea kinase molecularmd scid gist pdx gist pdx y823d mm3 gavage imatinib ponatinib sunitinib peg4 regorafenib lysate ponatinib glu gtp brdurd r121l r121l tryptophan r121l ponatinib kinase ponatinib imatinib sunitinib regorafenib ponatinib v559d v56 t67 d816h d82 a829p v654a ponatinib imatinib sunitinib regorafenib r121l r121l r121l metabolite r121l r121l despite syndromic r121l activity imatinib regorafenib ic5 ic5 sunitinib ic5 ponatinib ic5 ponatinib ic5 tki intracellular ponatinib y721 ponatinib imatinib regorafenib ic5 supernatant elf3 colo829 proapoptotic r121l r121l ecg imatinib atp v654a t67 d816h d82 n822 a829p ic5 sunitinib atp ic5 t67 ponatinib kinase v654a ponatinib regorafenib ponatinib ponatinib tki imatinib sunitinib ponatinib mutant isogenic transfection fgfr2c278f r121l ptprd interestingly v654a d816h tki v56 tki v56 ponatinib ponatinib ponatinib imatinib sunitinib r121l r121l v654a metaphase r121l masitinib r121l r121l khor r121l imatinib atp v654a t67 sunitinib ponatinib v654a t67 ponatinib imatinib d816h ponatinib mutagenesis mutational ponatinib imatinib sunitinib regorafenib mutagenesis mutageniz ponatinib sunitinib regorafenib imatinib imatinib regorafenib atp v654a t67 d816 sunitinib n822 ponatinib v654a atp ponatinib regorafenib imatinib sunitinib n655 n655 n655 tki ponatinib ponatinib kinase ponatinib pdb imatinib sunitinib ponatinib atp dfg dfg kinase imatinib ponatinib atp dfg p16 pten dissociation r121l lipofectamine figure ponatinib ponatinib dfg w557 dfg ponatinib ponatinib w557 ic5 ponatinib ic5 w557 ponatinib v56 k558np hydrophobic kinase w557 ponatinib dfg imatinib sunitinib dfg w557 atp v654a ponatinib imatinib sunitinib v654 waals ponatinib v654 imatinib sunitinib waal ponatinib t67 imatinib ponatinib ic5 agarose oncogenesis steric r121l r121l kinase r121l genbanktm d816 f811 waal ponatinib imatinib sunitinib d816h ponatinib ponatinib ponatinib ponatinib tki imatinib gist43 sunitinib atp gist43 sunitinib ponatinib t67 v654a r121l constitutively little ponatinib ic5 ponatinib imatinib erk gist43 v654a gist43 xenograft y823d ponatinib imatinib sunitinib regorafenib ponatinib ponatinib ponatinib ponatinib imatinib sunitinib regorafenib ponatinib rad51 aneuploidy all ponatinib ponatinib radiologic pazopanib ponatinib ponatinib ponatinib ponatinib ponatinib pazopanib ponatinib pretreated tki neoplasm tyrosine kinase pdgfra abl pdgfra abl imatinib kinase abl dasatinib nilotinib imatinib imatinib imatinib abl dasatinib nilotinib t315i ponatinib t315i ponatinib bcr abl genomic vcap r121l tki sunitinib regorafenib tkis imatinib imatinib atp sunitinib imatinib atp aa8 r121l r121l these imatinib sunitinib regorafenib comparator kinase ponatinib imatinib sunitinib ponatinib imatinib sunitinib ponatinib ic5 fold sunitinib imatinib regorafenib imatinib sunitinib sunitinib ic5 tki ponatinib ic5 ponatinib imatinib w557 w557 sunitinib ponatinib ponatinib v654a imatinib sunitinib ponatinib atp ic5 ponatinib v654a regorafenib ponatinib imatinib sunitinib waals v654 t67 imatinib sunitinib ponatinib ic5 ponatinib t67 t67 t315i bcr abl ponatinib steric isoleucine exon imatinib sunitinib ponatinib ic5 ponatinib xenograft d816h xenograft y823d ponatinib imatinib sunitinib f811 tki ptk r121l r121l hydrophobic importantly tki n822 ponatinib mutagenesis imatinib atp sunitinib v654a ponatinib ponatinib v654a ponatinib v654a bcr abl ponatinib t315i ponatinib ponatinib ponatinib t67 v654a ponatinib tki imatinib tki r121l chromatin embryo24 r121l importantly ponatinib ponatinib fgfr fusion ponatinib ponatinib bcr abl ponatinib vegfr pdgfr src kinase pdgfra ponatinib thrombotic pretreat ponatinib peltomaki r121l mll4 r121l r121l aml1 eycacy v617f ponatinib nct ponatinib translational imatinib sunitinib regorafenib polyclonal atp ponatinib tyrosine kinase ponatinib ponatinib nct protooncogene hepatocyte epithelial polyclonal cytoplasmic ductal metastasis multivariate ductal histologic grade hepatocyte hgf hgf mesenchymal epithelial intercellular invasion protooncogene hgf receptor epithelial carcinoma kilodalton transmembrane extracellular subunit13 tyrosine kinase receptors ligand cytoplasmic transduce dissociation mitogenesis3 hgf immunoreactive hgf lines hgf message16 survival hgf mitogen tissue19 demonstrated2 disease hgf coexpression carcinoma tumors24 lesions melanocyte mg132 carbonyl hirschsprung nondeplet tropomyosin material polyclonal polyclonal carboxyl resection ductal metastasis literature26 histologic ploidy histologic histologic immunostain ductal histologic formalin deparaffiniz immunostain method polyclonal tris r121l methylation r121l ura3 r121l r121l noncod r121l r121l kinase thus lysat centromere r121l r121l r121l slide histologic hematoxylin eosin histologic epithelial cytoplasmic membranous r121l r121l egfr statistical mlh1 ntg2 f123i ligand r121l skit medical r121l r121l kelch r121l stat3 immunoblott meki gfp pdb r121l r121l r121l nacl r121l r121l icc evaluable r121l all statview powerpc immunostain protein lysate catenin kilodalton a431 mcf hbl1 catenin cy3 ductal adipose fibrocystic fibroadenoma ductal lobular ductal lobular lobular cytoplasm stroma r121l hgg sbrct r121l hydrolysis some subcellular lobule cytoplasm hematoxylin eosin cy3 lobular cytoplasmic cytoplasmic mcap esr1 r121l r121l r121l ardini fgfr3 figure ductal cellularity ductal ductal positivity r121l r121l ser221 apoptosis positivity univariate multivariate histologic multivariate r121l hlh r121l s34f pak1 r121l flt3 r121l pabbreviations univariate yrs histologic multivariate modela aestrogen yrs histologic aggressive phenotype r121l inpp4b r121l cyclin r121l myst2 isoform epithelial frm r121l timepoint receptors her neu phenotype receptor35 p5336 proteins phenotype tissue dissociation monolayer epithelial mesenchymal phenotype extracellular matrix ligand extracellular well overexpression tissue quantitation literature histologic histologic markers hgf levels18 heterozygosity survival'"
      ]
     },
     "execution_count": 81,
     "metadata": {},
     "output_type": "execute_result"
    }
   ],
   "source": [
    "# an example text data after cleaning:\n",
    "test.dataset_clean['text_prof_tokens'][30]"
   ]
  },
  {
   "cell_type": "code",
   "execution_count": 68,
   "metadata": {
    "collapsed": true
   },
   "outputs": [],
   "source": [
    "train.text = train.text.dropna(how='any', axis=0)\n",
    "test.text = test.text.dropna(how='any', axis=0)\n",
    "# train.text = utils.merge_text_data(train.text, test.text)\n",
    "# train.text['text_prof_tokens'] = train.text.apply(lambda row: re.sub(r'[00]+', '', row['text_prof_tokens']), axis=1)\n",
    "# train.text['text_prof_tokens'] = train.text.apply(lambda row: re.sub(r'_+', '', row['text_prof_tokens']), axis=1)\n",
    "# train.text['text_prof_tokens'] = train.text.apply(lambda row: re.sub(r'aa+', '', row['text_prof_tokens']), axis=1)"
   ]
  },
  {
   "cell_type": "code",
   "execution_count": 69,
   "metadata": {},
   "outputs": [],
   "source": [
    "train.vectorize_tfidf(train.dataset_clean,max_df=0.3)"
   ]
  },
  {
   "cell_type": "code",
   "execution_count": 82,
   "metadata": {
    "scrolled": false
   },
   "outputs": [
    {
     "name": "stdout",
     "output_type": "stream",
     "text": [
      "most frequent words\n",
      "  0: brca1 248.70307861283305 counts\n",
      "  1: pten 121.3324451268391 counts\n",
      "  2: egfr 120.45424039613184 counts\n",
      "  3: brct 94.22019305776655 counts\n",
      "  4: brca2 72.99125294944974 counts\n",
      "  5: braf 70.83370747334999 counts\n",
      "  6: imatinib 68.80701111078659 counts\n",
      "  7: alk 66.98270962657226 counts\n",
      "  8: pdgfra 52.921009452252875 counts\n",
      "  9: p11 50.74539899983619 counts\n"
     ]
    },
    {
     "data": {
      "image/png": "[encoded data removed]",
      "text/plain": [
       "<matplotlib.figure.Figure at 0x7fd9541189e8>"
      ]
     },
     "metadata": {},
     "output_type": "display_data"
    }
   ],
   "source": [
    "# train.vectorize(train.text)\n",
    "# print(train.text_vector.shape)\n",
    "freq = train.keep_top_words(15000, 10)\n",
    "plt.figure(figsize=(17,5))\n",
    "plt.semilogy(freq)\n",
    "plt.show()"
   ]
  },
  {
   "cell_type": "markdown",
   "metadata": {
    "scrolled": true
   },
   "source": [
    "##  construct word2vec model using skip-gram:"
   ]
  },
  {
   "cell_type": "code",
   "execution_count": 73,
   "metadata": {},
   "outputs": [
    {
     "name": "stdout",
     "output_type": "stream",
     "text": [
      "8892 words not found in corpus\n"
     ]
    }
   ],
   "source": [
    "train.embed()"
   ]
  },
  {
   "cell_type": "code",
   "execution_count": 79,
   "metadata": {},
   "outputs": [
    {
     "data": {
      "text/plain": [
       "[('p417a', 0.8713548183441162),\n",
       " ('cblc', 0.8255878686904907),\n",
       " ('itds', 0.8233693838119507),\n",
       " ('q419pfsx81', 0.795302152633667),\n",
       " ('r462w', 0.7940701842308044),\n",
       " ('camt', 0.7934361696243286),\n",
       " ('v194', 0.7931709885597229),\n",
       " ('unassociated', 0.7922922968864441),\n",
       " ('cblb', 0.7910951375961304),\n",
       " ('zygosity', 0.7905402779579163),\n",
       " ('langemeijer', 0.7880425453186035),\n",
       " ('tolerated', 0.7870913743972778),\n",
       " ('ahd', 0.7870215177536011),\n",
       " ('e392', 0.785727322101593),\n",
       " ('jankowska', 0.7839691638946533),\n",
       " ('a678v', 0.7834010124206543),\n",
       " ('fip1l', 0.7811611890792847),\n",
       " ('maintenance', 0.7792470455169678),\n",
       " ('fashion', 0.7788318991661072),\n",
       " ('nonmutat', 0.7779462337493896),\n",
       " ('pctd', 0.7745986580848694),\n",
       " ('period', 0.7739759683609009),\n",
       " ('transdominant', 0.7732717394828796),\n",
       " ('exclusive', 0.7727136611938477),\n",
       " ('hollstein', 0.7724050283432007),\n",
       " ('hsm', 0.7720693349838257),\n",
       " ('prune2', 0.7719651460647583),\n",
       " ('w563l', 0.7719531059265137),\n",
       " ('lnk', 0.7714660167694092),\n",
       " ('pms', 0.769765317440033)]"
      ]
     },
     "execution_count": 79,
     "metadata": {},
     "output_type": "execute_result"
    }
   ],
   "source": [
    "model = train.model\n",
    "a =model.wv\n",
    "a.most_similar('n454d', topn=30)"
   ]
  },
  {
   "cell_type": "markdown",
   "metadata": {},
   "source": [
    "# TODO: Classification using word2vec embedding"
   ]
  },
  {
   "cell_type": "code",
   "execution_count": null,
   "metadata": {
    "collapsed": true
   },
   "outputs": [],
   "source": []
  },
  {
   "cell_type": "code",
   "execution_count": 12,
   "metadata": {},
   "outputs": [
    {
     "data": {
      "text/plain": [
       "(15000, 100)"
      ]
     },
     "execution_count": 12,
     "metadata": {},
     "output_type": "execute_result"
    }
   ],
   "source": [
    "flags = tf.app.flags\n",
    "FLAGS = flags.FLAGS\n",
    "\n",
    "# Graphs.\n",
    "flags.DEFINE_integer('number_edges', 16, 'Graph: minimum number of edges per vertex.')\n",
    "flags.DEFINE_string('metric', 'euclidean', 'Graph: similarity measure (between features).')\n",
    "# TODO: change cgcnn for combinatorial Laplacians.\n",
    "flags.DEFINE_bool('normalized_laplacian', True, 'Graph Laplacian: normalized.')\n",
    "flags.DEFINE_integer('coarsening_levels', 0, 'Number of coarsened graphs.')\n",
    "\n",
    "flags.DEFINE_string('dir_data', os.path.join('..', 'data', '20news'), 'Directory to store data.')\n",
    "flags.DEFINE_integer('val_size', 400, 'Size of the validation set.')\n",
    "graph_data = train.embeddings.astype(np.float64)\n",
    "graph_data.shape"
   ]
  },
  {
   "cell_type": "code",
   "execution_count": 19,
   "metadata": {},
   "outputs": [
    {
     "name": "stdout",
     "output_type": "stream",
     "text": [
      "15000\n"
     ]
    }
   ],
   "source": [
    "graph_data = train.embeddings.astype(np.float64)\n",
    "graph_data[np.isnan(graph_data).any(axis=1)]=0\n",
    "graph_data[(graph_data>1000).any(axis=1)]=0\n",
    "\n",
    "# np.argmax(np.sum(graph_data, axis=1))\n",
    "# plt.show()"
   ]
  },
  {
   "cell_type": "code",
   "execution_count": null,
   "metadata": {},
   "outputs": [],
   "source": []
  },
  {
   "cell_type": "code",
   "execution_count": 15,
   "metadata": {},
   "outputs": [
    {
     "name": "stdout",
     "output_type": "stream",
     "text": [
      "0.0\n",
      "217378 > 120000 edges\n",
      "Layer 0: M_0 = |V| = 15000 nodes (0 added),|E| = 217378 edges\n"
     ]
    }
   ],
   "source": [
    "dist, idx = graph.distance_sklearn_metricsrics(graph_data, k=FLAGS.number_edges, metric=FLAGS.metric)\n",
    "A = graph.adjacency(dist, idx)\n",
    "print(\"{} > {} edges\".format(A.nnz//2, FLAGS.number_edges*graph_data.shape[0]//2))\n",
    "A = graph.replace_random_edges(A, 0)\n",
    "graphs, perm = coarsening.coarsen(A, levels=FLAGS.coarsening_levels, self_connections=False)\n",
    "L = [graph.laplacian(A, normalized=True) for A in graphs]\n",
    "# print('Execution time: {:.2f}s'.format(time.process_time() - t_start))\n"
   ]
  },
  {
   "cell_type": "code",
   "execution_count": null,
   "metadata": {},
   "outputs": [],
   "source": []
  },
  {
   "cell_type": "code",
   "execution_count": null,
   "metadata": {
    "collapsed": true
   },
   "outputs": [],
   "source": []
  },
  {
   "cell_type": "code",
   "execution_count": null,
   "metadata": {
    "collapsed": true
   },
   "outputs": [],
   "source": []
  },
  {
   "cell_type": "code",
   "execution_count": null,
   "metadata": {
    "collapsed": true
   },
   "outputs": [],
   "source": []
  }
 ],
 "metadata": {
  "kernelspec": {
   "display_name": "Python 3",
   "language": "python",
   "name": "python3"
  },
  "language_info": {
   "codemirror_mode": {
    "name": "ipython",
    "version": 3
   },
   "file_extension": ".py",
   "mimetype": "text/x-python",
   "name": "python",
   "nbconvert_exporter": "python",
   "pygments_lexer": "ipython3",
   "version": "3.6.2"
  }
 },
 "nbformat": 4,
 "nbformat_minor": 2
}
